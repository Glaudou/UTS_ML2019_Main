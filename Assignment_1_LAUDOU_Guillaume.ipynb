{
  "nbformat": 4,
  "nbformat_minor": 0,
  "metadata": {
    "colab": {
      "name": "Assignment_1_LAUDOU_Guillaume.ipynb",
      "version": "0.3.2",
      "provenance": [],
      "collapsed_sections": [],
      "include_colab_link": true
    },
    "kernelspec": {
      "name": "python3",
      "display_name": "Python 3"
    }
  },
  "cells": [
    {
      "cell_type": "markdown",
      "metadata": {
        "id": "view-in-github",
        "colab_type": "text"
      },
      "source": [
        "<a href=\"https://colab.research.google.com/github/Glaudou/UTS_ML2019_Main/blob/master/Assignment_1_LAUDOU_Guillaume.ipynb\" target=\"_parent\"><img src=\"https://colab.research.google.com/assets/colab-badge.svg\" alt=\"Open In Colab\"/></a>"
      ]
    },
    {
      "cell_type": "markdown",
      "metadata": {
        "id": "EDLfy_vWYjXa",
        "colab_type": "text"
      },
      "source": [
        "Link to the note book :\n",
        "https://github.com/Glaudou/UTS_ML2019_Main/edit/master/Assignment_1_LAUDOU_Guillaume.ipynb"
      ]
    },
    {
      "cell_type": "markdown",
      "metadata": {
        "id": "Jn4syPpqeRhW",
        "colab_type": "text"
      },
      "source": [
        "I am sorry, the images would not load ..."
      ]
    },
    {
      "cell_type": "markdown",
      "metadata": {
        "colab_type": "text",
        "id": "dRLALU1QRCHN"
      },
      "source": [
        "\n",
        "# **Using Machine Learning for prediction of saturated hydraulic conductivity and its sensitivity to soil structural perturbations**\n",
        "\n",
        "##1.\tIntroduction:\n",
        "\n",
        "Hydraulic conductivity of water‐saturated soils (Ks) is one of the most important soil characteristics that determines rate of infiltration, runoff generation, and deep drainage. Its importance is particularly elevated during precipitation, snowmelt, flooding, irrigation events. Ks regulates the amount of plant-available water, overland flow and transport, erosion, groundwater recharge, and extent and duration of water inundation. The magnitude of soil hydraulic conductivity primarily depends on the size, distribution and, connectivity of pores.\n",
        "\n",
        "\n",
        "##2.\tContent:\n",
        "\n",
        "As explained in the introduction, Ks is one of the most important soil characteristics that determines rate of infiltration. However, it is difficult to analyse the relationships between hydraulic properties and the variable of the soils since it is nonlinear. This is why 4 Machine Learning algorithms, such as K-Nearest Neighbours, Support Vector Regression, Random Forest and Boosted Regression Trees, are used in order to predict Ks, thanks to data of over 35,000 soils in two databases, which after their data cleaning, only 18,644 soils for the USKSAT database and 5,985 soils for the FLSOIL database remained usable for the tests. All the variables, excluding Ks have been centred to their mean and they have also been scaled. Those data were then split into a training and a testing dataset, respectively 75% and 25%. \n",
        "This reasearch also tries to identify and rank variables, which are the soil properties, for the prediction of Ks. For this, multiple models are used with different set of predictors:\n",
        "\n",
        "The training of those models was made using a tenfold cross validation method and assessed using the Root Mean Squared Log-transformed Error (RSMLE), the Mean Log-transformed Error (MLE) and the coefficient of determination (R²). Other PTF models were used to compare the tested models.\n",
        " \n",
        "As this figure explains, after finding the final model, the test dataset is used to assess the best performing model, which is the one with the lowest prediction error. In this research, they first started by assessing the models using only the USKSAT database, hence excluding the water retention variables. This was made to find the best Machine-Learning algorithm for this study. However, to rank the predictors, all the properties need to be included, hence the models using water retentions variables were added.\n",
        "The sensitivity of Ks to structural perturbations is analysed by varying the bulk density and the organic carbon in each of the soil textural groups. First, modifying the bulk density, then the organic carbon and finally, both variables.\n",
        "\n",
        "##3.\tInnovation:\n",
        "\n",
        "The research work in the paper is really innovative when it comes to studying soils since no one before used machine learning to predict saturated hydraulic conductivity or to analyse its sensitivity to soil perturbations. Before, researches on this matter where done using only statistics, results were not bad but not good either. As we can see in the research paper, many algorithm were compared between each other, and once the best among the four algorithms tested was determined, it has been compared to the 10 best PTF models, such as the Rosetta3-H3, which was considered the best before, that had a RMSLE of 0.600 and a coefficient of determination of 0.6 while the Boosted Regression Trees with the 7-2 set of predictors, which is the best model according to the results, has a RMSLE of 0.295 and the coefficient of determination is around 0.9. The new model surpasses by far the previous PTF models.\n",
        "Moreover, the research not only compare which Machine Learning algorithm is the best, but it also uses it to analyse the different variables for prediction and rank them in importance order, with the possibility of adding or discarding factors. It also shows that the algorithm does not need all these predictors and can learn from the raw data since, after removing the 10th percentile particle size, the model did not get influenced, even though it had been determined to be the most important predictor. \n",
        "Therefore, this research offers a new method and also a new methodology in predicting saturated hydraulic conductivity with a higher accuracy and in ranking the soil variables. There is also the fact that, 2 of the best factors have been determined to have an influence on the sensitivity of the saturated hydraulic conductivity.\n",
        "\n",
        "\n",
        "##4.\tTechnical quality:\n",
        "\n",
        "The technical quality of this research is pretty good. Indeed, the research follow correctly the machine learning algorithm, in order, starting by looking for a large number of data and the number of data found is high enough to get correct results, more than 35,000 data from 2 databases. The data is then cleaned, keeping only the data that have predictors that seems useful and the remaining data after the cleaning is split into a 75% training data set and a 25% testing data set. Then several models were established and each one was tested in order to find the best model possible. To assess the model, only the testing data was used, and they used 3 different methods to assess it, plus they compared their results with previous models that were considered the best. The resulted values are correctly used and defined. Also, all the equations look correct and the estimations made are justified for this case.\n",
        "\tHence, I think the subject of the research has been well-made since it is following the usual methodology for Machine Learning implementation and all the results are well assessed, justified and put into good use to help answer the problematic. And all the experimentations that were made were useful.\n",
        "\n",
        "##5.\tApplication and X-factor:\n",
        "\n",
        "I think the application domain is appropriate for the proposed technique since Boosted Regression Trees are good for the kind of data used in this research, which uses different measurement methods and also because it minimizes the gradient of the loss function. This kind of research can be used in many fields, for instance it can be used in predicting a machine’s maintenance : predicting the date it will need a maintenance before the machine breaks down in order to prepare the parts needed for the overhaul and not stop the production, analysing and ranking the factors such as speed, acceleration, heat, …, influencing the deterioration of the different parts of the machine and also analysing how the factors deteriorate the machine.\n",
        "\tTo improve this research, the scientist might be able to rework some parts. Indeed, some parts of the research are made on assumptions and some are not really accurate, as it is reported in the paper. But it still was an interesting topic, I learned a lot of new things on soils and machine learning and I think, discussing some subjects like that in class, I mean some practical examples might help in understanding better the courses and improve ourselves. The best way to learn is through practicing.\n",
        "\n",
        "##6.\tPresentation:\n",
        "\n",
        "The presentation has been realised with care. The introduction presents the subject well and introduce the different part that will be studied. There is even a background explaining the different factors that will be studied and the different Machine Learning algorithms and how they work. The whole method is described with details and there are a lot of figures to back the explanations and the results obtained. The conclusion summarizes every result obtained. There is even a nomenclature for the abbreviations at the end. The only thing that bothers me is the place of some figures, for figure 7 for instance, it is spoken of at the end of page 11 but you have to go to the end of page 13 to actually see that figure. Otherwise, it’s a very nice research paper and easy to read.\n",
        "\n",
        "\n",
        "##7. References\n",
        "\n",
        "- Samuel N. Araya, Teamrat A. Ghezzehei, 2019, *Using Machine Learning for Prediction of Saturated Hydraulic Conductivity and Its Sensitivity to Soil Structural Perturbations*, Volume 55, Issue 7, Water Resources Research, https://agupubs.onlinelibrary.wiley.com/doi/10.1029/2018WR024357\n",
        "- Abdelbaki, A. M., Youssef, M. A., Naguib, E. M. F., Kiwan, M. E., El‐Giddawy, 2009. *Evaluation of pedotransfer functions for predicting saturated hydraulic conductivity for U.S. soils*, ASABE,\n",
        "https://doi.org/10.13031/2013.27309\n",
        "- Angelaki, A., Singh Nain, S., Singh, V., & Sihag, 2018, *Estimation of models for cumulative infiltration of soil using machine learning methods*, ISH Journal of Hydraulic Engineering, https://doi.org/10.1080/09715010.2018.1531274\n",
        "- Bayat, H., Neyshaburi, M. R., Mohammadi, K., Nariman‐Zadeh, N., & Irannejad, 2013, *Improving water content estimations using penetration resistance and principal component analysis*, Soil and Tillage Research,\n",
        "https://doi.org/10.1016/j.still.2013.01.009"
      ]
    }
  ]
}
