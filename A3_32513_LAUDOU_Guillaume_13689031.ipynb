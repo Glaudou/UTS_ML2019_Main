{
  "nbformat": 4,
  "nbformat_minor": 0,
  "metadata": {
    "colab": {
      "name": "A3_32513_LAUDOU_Guillaume_13689031.ipynb",
      "provenance": [],
      "collapsed_sections": [],
      "include_colab_link": true
    },
    "kernelspec": {
      "name": "python3",
      "display_name": "Python 3"
    }
  },
  "cells": [
    {
      "cell_type": "markdown",
      "metadata": {
        "id": "view-in-github",
        "colab_type": "text"
      },
      "source": [
        "<a href=\"https://colab.research.google.com/github/Glaudou/UTS_ML2019_Main/blob/master/A3_32513_LAUDOU_Guillaume_13689031.ipynb\" target=\"_parent\"><img src=\"https://colab.research.google.com/assets/colab-badge.svg\" alt=\"Open In Colab\"/></a>"
      ]
    },
    {
      "cell_type": "markdown",
      "metadata": {
        "id": "7V49LCH8NfEI",
        "colab_type": "text"
      },
      "source": [
        "# ***Planning Maker***"
      ]
    },
    {
      "cell_type": "markdown",
      "metadata": {
        "id": "DVI7Wr9sN1De",
        "colab_type": "text"
      },
      "source": [
        "The **aim** of this project is to help managers, or any people responsible in making schedules, to create schedules using data analysis techniques. There are 3 objectives to this project: \n",
        "\n",
        "1.   Creating schedules faster and with a better accuracy;\n",
        "2.   Making it easy to modify the schedules in case of emergencies (new employee, someone leaving, absence);\n",
        "3. Re-focus the man-power used to make timetables for something else.\n",
        "\n"
      ]
    },
    {
      "cell_type": "markdown",
      "metadata": {
        "id": "iG9BwifA6M3O",
        "colab_type": "text"
      },
      "source": [
        "Currently, to make a timetable in enterprises, it's a manager that has to do it. In some companies, especially the small ones, it is difficult to have someone working on it as it would cost some more money, but it also takes a lot of time to prepare and to be sure that you are right with the law.\n",
        "\n",
        "There are some projects using machine learning in order to make it easier, but it's basically recognising when someone wants to plan something using word recognition and/or checking if the planned time slot is not already used, trying to find an optimal slot by looking at the data in the previous weeks to see which next free slot is the most used, if it is the case.It's not about trying to optimize the quality of the work and the working conditions. The closest to this project is about using genetic machine learning algorithms to create the timetables.\n"
      ]
    },
    {
      "cell_type": "markdown",
      "metadata": {
        "id": "K2eJB-EAaoUu",
        "colab_type": "text"
      },
      "source": [
        "It's really important to have timetables and sometimes they are very hard to make. The two things that an enterprise would win in using this kind of timetable maker is a lot of time which would allow to re-focus the manpower to work other tasks and, therefore, spend less money. As I said earlier, small companies can't afford to pay someone to do it and they don't have the time to do it too, so it is a system that could replace the human on a minor, but still important, action.\n",
        "\n",
        "On this project, the objective is to have an algorithm helping in making an optimized timetable (that would be a Decision Support System which is just a system that helps in making decision but the final choice is still made by a human) or that it could even make it by itself. For instance, according to a country, the law can sometimes be difficult to grasp in its entirety so after putting the type of work and all the specifications of the employee, it would know how to organize its time slots and in accordance with the other employees to optimize the working productions and the working hours. The timetable maker could also be used in schools. In some countries, such as France for instance, students can't choose their time slots for their classes, it is made by the school staff. The timetable could be used to optimize their timetable in order for them not to have to spend much time travelling forth and back from school, losing precious working time.\n",
        "\n",
        "\n",
        "\n",
        "\n",
        "To function, the system would:\n",
        "\n",
        "\n",
        "1.   Read the different parameters of each employee;\n",
        "2.   Classify each employee according to their jobs and working rights;\n",
        "3. Create several models of timetable;\n",
        "4. Simulate them in order to get the best timetable possible;\n",
        "5. Read the data of previous results or simulations made before;\n",
        "6. Choose the bests (maybe 3 for instance) timetables that it created and propose them to the manager to choose amongst them;\n",
        "7. If the manager is not satisfied with any of the proposed timetables, he / she could decide to either re-run the program with the same parameters or with some new parameters, increase the number of choices to see some others made by the program or decide to do it himself / herself.\n",
        "\n",
        "The assessment / comparison of the best timetables would be made with previous data (previous results or simulations of working productions) and according to the demand of the goods the company needs to product (which can vary according to the month for instance) the quantity of workers variate. Of course, as the time passes the new data and their real-life result would be added which would improve the accuracy or totally modify the way of creating the timetables.\n",
        "\n",
        "Here is how the creation of the project should be processed:\n",
        "\n",
        "![Gantt Chart](https://drive.google.com/uc?id=1BVlSWEOosZT8chot3mjk3pO7h65KnG4d)\n",
        "\n",
        "It is important to say that the \"Collecting data\" should be done beforehand since it takes a lot more time than the 4 months allocated to it. The thing is, during this time, it should be good to ask several companies to give more data to improve the accuracy and work on several cases.\n",
        "\n",
        "The outcome of this project should be to help managers in creating timetable faster and optimized in order to improve the working conditions of the employees, which involves improving the quality of the work and therefore more benefits. Moreover, since it makes it faster, the managers have more time to focus on their other tasks. With this project, it is clear that investors would spend less money and their employees would work smarter.\n",
        "Also, the project will be sold to other companies with a price varying on the number of employees the company has since the more employees, the stronger the servers are needed to be since there are more data to stock."
      ]
    },
    {
      "cell_type": "markdown",
      "metadata": {
        "id": "noF49nwNVPZ9",
        "colab_type": "text"
      },
      "source": [
        "For this project, an important budget has to be considered. It is, obviously, needed to pay for the teams (AUD 2.5 Million) working on it, but also, money is needed for:\n",
        "* Materials such as computers and the different softwares needed (AUD 150,000);\n",
        "* The different researches needed to make this project (AUD 500,000);\n",
        "* The data collected on other companies (AUD 500,000);\n",
        "*   The servers to stock the data (AUD 150,000);\n",
        "* The servers to put the software / application (AUD 100,000);\n",
        "*   The advertisement (around AUD 500,000);\n",
        "* The maintenance of the systems over the years (AUD 500,000 per year, after the first year);\n",
        "* Contingency costs (AUD 500,000).\n",
        "\n",
        "Also, it is better to have more than predicted in case a problem arises. Therefore, the budget is estimated around 5 millions Australian Dollars to develop the project and the maintenance should be around AUD 500,000 per year for updates and bugs corrections.\n"
      ]
    },
    {
      "cell_type": "markdown",
      "metadata": {
        "id": "r80ogsPJaoqW",
        "colab_type": "text"
      },
      "source": [
        "The personnel needed in this project would be:\n",
        "* A team of Software Developers are needed to develop the software, the interfaces and the functions to make it more attractive;\n",
        "* A team of Data Scientists and Data Analysts in order to develop the machine learning algorithms and analyse the data;\n",
        "* A team of Sales Executives to make the advertisements and describe the project value;\n",
        "* A team of Cybersecurity Engineers to develop firewalls in order to protect the project from any hacking;\n",
        "* Some Managers who are experienced in making schedules as consultant in order to help improve the project with their ideas.\n"
      ]
    },
    {
      "cell_type": "markdown",
      "metadata": {
        "id": "Q4qBOjOfhREz",
        "colab_type": "text"
      },
      "source": [
        "## References"
      ]
    },
    {
      "cell_type": "markdown",
      "metadata": {
        "id": "DkLG4NGN6Kid",
        "colab_type": "text"
      },
      "source": [
        "https://slurm.schedmd.com/SLUG15/machine_learning.pdf\n",
        "\n",
        "https://medium.com/@vijinimallawaarachchi/time-table-scheduling-2207ca593b4d\n",
        "\n",
        "https://pdfs.semanticscholar.org/3338/d09de7100fe9f41ae24b2c13675cf4ad2b9c.pdf\n",
        "\n"
      ]
    },
    {
      "cell_type": "markdown",
      "metadata": {
        "id": "qfiMXCG0zGCi",
        "colab_type": "text"
      },
      "source": [
        "## Video-Pitch"
      ]
    },
    {
      "cell_type": "markdown",
      "metadata": {
        "id": "lakpFITuzI7y",
        "colab_type": "text"
      },
      "source": [
        "Link : https://youtu.be/n1gM9YX--Lk"
      ]
    }
  ]
}